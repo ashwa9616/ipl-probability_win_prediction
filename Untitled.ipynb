{
 "cells": [
  {
   "cell_type": "code",
   "execution_count": 1,
   "id": "994abd6c-958d-42e5-9b7d-5e1961956317",
   "metadata": {},
   "outputs": [
    {
     "name": "stdout",
     "output_type": "stream",
     "text": [
      "0.9997028736364022\n"
     ]
    }
   ],
   "source": [
    "import pandas as pd \n",
    "import numpy as np\n",
    "from sklearn.model_selection import train_test_split\n",
    "from sklearn.compose import ColumnTransformer\n",
    "from sklearn.preprocessing import OneHotEncoder\n",
    "from sklearn.pipeline import Pipeline\n",
    "from sklearn.metrics import accuracy_score\n",
    "from sklearn.ensemble import RandomForestClassifier\n",
    "import pickle\n",
    "\n",
    "df = pd.read_csv('dataset.csv')\n",
    "\n",
    "x = df.iloc[:, :-1]\n",
    "y = df.iloc[:,-1]\n",
    "x_train,x_test,y_train,y_test = train_test_split(x,y,test_size=0.25,random_state=100)\n",
    "\n",
    "trf = ColumnTransformer([\n",
    "    ('trf',OneHotEncoder(drop='first'),['batting_team','bowling_team','city'])\n",
    "],\n",
    "remainder='passthrough')\n",
    "\n",
    "ra_pipe = Pipeline([\n",
    "    ('step1',trf),\n",
    "    ('step2',RandomForestClassifier())\n",
    "])\n",
    "\n",
    "ra_pipe.fit(x_train,y_train)\n",
    "\n",
    "ra_y_pred = ra_pipe.predict(x_test)\n",
    "\n",
    "pickle.dump(ra_pipe,open('ra_pipe.pkl','wb'))\n",
    "\n",
    "print(accuracy_score(y_test,ra_y_pred))"
   ]
  },
  {
   "cell_type": "code",
   "execution_count": null,
   "id": "d8535d27-4816-4e0b-a282-54958917351f",
   "metadata": {},
   "outputs": [],
   "source": []
  }
 ],
 "metadata": {
  "kernelspec": {
   "display_name": "Python 3 (ipykernel)",
   "language": "python",
   "name": "python3"
  },
  "language_info": {
   "codemirror_mode": {
    "name": "ipython",
    "version": 3
   },
   "file_extension": ".py",
   "mimetype": "text/x-python",
   "name": "python",
   "nbconvert_exporter": "python",
   "pygments_lexer": "ipython3",
   "version": "3.10.5"
  }
 },
 "nbformat": 4,
 "nbformat_minor": 5
}
